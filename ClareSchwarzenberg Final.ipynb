{
 "cells": [
  {
   "cell_type": "code",
   "execution_count": 71,
   "id": "7784168e",
   "metadata": {},
   "outputs": [],
   "source": [
    "#Import Libraries\n",
    "import numpy as np\n",
    "import pandas as pd\n",
    "import re\n",
    "import nltk\n",
    "from nltk.corpus import stopwords\n",
    "from sklearn import metrics\n",
    "from sklearn.neural_network import MLPClassifier\n",
    "from sklearn.model_selection import train_test_split\n",
    "from sklearn.metrics import f1_score\n",
    "from sklearn.metrics import accuracy_score\n",
    "from nltk.stem.porter import PorterStemmer\n",
    "from sklearn.feature_extraction.text import CountVectorizer\n",
    "from sklearn.neural_network import MLPClassifier\n",
    "from sklearn.metrics import recall_score\n",
    "from sklearn.metrics import precision_score\n",
    "from sklearn.model_selection import GridSearchCV\n",
    "\n"
   ]
  },
  {
   "cell_type": "code",
   "execution_count": 72,
   "id": "13138682",
   "metadata": {},
   "outputs": [
    {
     "name": "stderr",
     "output_type": "stream",
     "text": [
      "/Users/clareschwarzenberg/opt/anaconda3/lib/python3.9/site-packages/pandas/util/_decorators.py:311: ParserWarning: Falling back to the 'python' engine because the 'c' engine does not support regex separators (separators > 1 char and different from '\\s+' are interpreted as regex); you can avoid this warning by specifying engine='python'.\n",
      "  return func(*args, **kwargs)\n"
     ]
    }
   ],
   "source": [
    "df = pd.read_csv('train_with_label.txt', sep='\\t+')\n",
    "df.columns = ['instance_id', 'sentence_1', 'sentence_2', 'gold_label']\n",
    "\n",
    "df2 = pd.read_csv('dev_with_label.txt', sep='\\t+')\n",
    "df2.columns = ['instance_id', 'sentence_1', 'sentence_2', 'gold_label']\n",
    "\n",
    "df3 = pd.read_csv('test_without_label.txt', sep='\\t+')\n",
    "df3.columns = ['instance_id', 'sentence_1', 'sentence_2']\n"
   ]
  },
  {
   "cell_type": "code",
   "execution_count": 73,
   "id": "17a3e660",
   "metadata": {},
   "outputs": [],
   "source": [
    "# A list of contractions from http://stackoverflow.com/questions/19790188/expanding-english-language-contractions-in-python\n",
    "contractions = { \n",
    "\"ain't\": \"am not\",\n",
    "\"aren't\": \"are not\",\n",
    "\"can't\": \"cannot\",\n",
    "\"can't've\": \"cannot have\",\n",
    "\"'cause\": \"because\",\n",
    "\"could've\": \"could have\",\n",
    "\"couldn't\": \"could not\",\n",
    "\"couldn't've\": \"could not have\",\n",
    "\"didn't\": \"did not\",\n",
    "\"doesn't\": \"does not\",\n",
    "\"don't\": \"do not\",\n",
    "\"hadn't\": \"had not\",\n",
    "\"hadn't've\": \"had not have\",\n",
    "\"hasn't\": \"has not\",\n",
    "\"haven't\": \"have not\",\n",
    "\"he'd\": \"he would\",\n",
    "\"he'd've\": \"he would have\",\n",
    "\"he'll\": \"he will\",\n",
    "\"he's\": \"he is\",\n",
    "\"how'd\": \"how did\",\n",
    "\"how'll\": \"how will\",\n",
    "\"how's\": \"how is\",\n",
    "\"i'd\": \"i would\",\n",
    "\"i'll\": \"i will\",\n",
    "\"i'm\": \"i am\",\n",
    "\"i've\": \"i have\",\n",
    "\"isn't\": \"is not\",\n",
    "\"it'd\": \"it would\",\n",
    "\"it'll\": \"it will\",\n",
    "\"it's\": \"it is\",\n",
    "\"let's\": \"let us\",\n",
    "\"ma'am\": \"madam\",\n",
    "\"mayn't\": \"may not\",\n",
    "\"might've\": \"might have\",\n",
    "\"mightn't\": \"might not\",\n",
    "\"must've\": \"must have\",\n",
    "\"mustn't\": \"must not\",\n",
    "\"needn't\": \"need not\",\n",
    "\"oughtn't\": \"ought not\",\n",
    "\"shan't\": \"shall not\",\n",
    "\"sha'n't\": \"shall not\",\n",
    "\"she'd\": \"she would\",\n",
    "\"she'll\": \"she will\",\n",
    "\"she's\": \"she is\",\n",
    "\"should've\": \"should have\",\n",
    "\"shouldn't\": \"should not\",\n",
    "\"that'd\": \"that would\",\n",
    "\"that's\": \"that is\",\n",
    "\"there'd\": \"there had\",\n",
    "\"there's\": \"there is\",\n",
    "\"they'd\": \"they would\",\n",
    "\"they'll\": \"they will\",\n",
    "\"they're\": \"they are\",\n",
    "\"they've\": \"they have\",\n",
    "\"wasn't\": \"was not\",\n",
    "\"we'd\": \"we would\",\n",
    "\"we'll\": \"we will\",\n",
    "\"we're\": \"we are\",\n",
    "\"we've\": \"we have\",\n",
    "\"weren't\": \"were not\",\n",
    "\"what'll\": \"what will\",\n",
    "\"what're\": \"what are\",\n",
    "\"what's\": \"what is\",\n",
    "\"what've\": \"what have\",\n",
    "\"where'd\": \"where did\",\n",
    "\"where's\": \"where is\",\n",
    "\"who'll\": \"who will\",\n",
    "\"who's\": \"who is\",\n",
    "\"won't\": \"will not\",\n",
    "\"wouldn't\": \"would not\",\n",
    "\"you'd\": \"you would\",\n",
    "\"you'll\": \"you will\",\n",
    "\"you're\": \"you are\"\n",
    "}\n"
   ]
  },
  {
   "cell_type": "code",
   "execution_count": 74,
   "id": "be7d5f06",
   "metadata": {},
   "outputs": [],
   "source": [
    "def clean_text(text, remove_stopwords = True):\n",
    "    '''Remove unwanted characters, stopwords, and format the text to create fewer nulls word embeddings'''\n",
    "    \n",
    "    # Convert words to lower case\n",
    "    text = text.lower()\n",
    "    \n",
    "    # Replace contractions with their longer forms \n",
    "    if True:\n",
    "        text = text.split()\n",
    "        new_text = []\n",
    "        for word in text:\n",
    "            if word in contractions:\n",
    "                new_text.append(contractions[word])\n",
    "            else:\n",
    "                new_text.append(word)\n",
    "        text = \" \".join(new_text)\n",
    "        \n",
    "    # Format words and remove unwanted characters\n",
    "    text = re.sub(r'https?:\\/\\/.*[\\r\\n]*', '', text, flags=re.MULTILINE)\n",
    "    text = re.sub(r'\\<a href', ' ', text)\n",
    "    text = re.sub(r'&amp;', '', text) \n",
    "    text = re.sub(r'[_\"\\-;%()|+&=*%.,!?:#$@\\[\\]/]', ' ', text)\n",
    "    text = re.sub(r'<br />', ' ', text)\n",
    "    text = re.sub(r'\\'', ' ', text)\n",
    "    \n",
    "    # remove stop words\n",
    "    if remove_stopwords:\n",
    "        text = text.split()\n",
    "        stops = set(stopwords.words(\"english\"))\n",
    "        text = [w for w in text if not w in stops]\n",
    "        text = \" \".join(text)\n",
    "\n",
    "    # Tokenize each word\n",
    "    text =  nltk.WordPunctTokenizer().tokenize(text)\n",
    "        \n",
    "    return text"
   ]
  },
  {
   "cell_type": "code",
   "execution_count": 75,
   "id": "4ea2fdc2",
   "metadata": {},
   "outputs": [],
   "source": [
    "df['Sentence_1_Token'] = list(map(clean_text, df.sentence_1))\n",
    "df['Sentence_2_Token'] = list(map(clean_text, df.sentence_2))\n",
    "\n",
    "df2['Sentence_1_Token'] = list(map(clean_text, df2.sentence_1))\n",
    "df2['Sentence_2_Token'] = list(map(clean_text, df2.sentence_2))\n",
    "\n",
    "df3['Sentence_1_Token'] = list(map(clean_text, df3.sentence_1))\n",
    "df3['Sentence_2_Token'] = list(map(clean_text, df3.sentence_2))"
   ]
  },
  {
   "cell_type": "code",
   "execution_count": 76,
   "id": "0629aca1",
   "metadata": {},
   "outputs": [],
   "source": [
    "lemm = nltk.stem.WordNetLemmatizer()\n",
    "df['Sentence_1_Cleaned'] = list(map(lambda word:list(map(lemm.lemmatize, word)),df.Sentence_1_Token))\n",
    "df['Sentence_2_Cleaned'] = list(map(lambda word:list(map(lemm.lemmatize, word)),df.Sentence_2_Token))\n",
    "\n",
    "lemm = nltk.stem.WordNetLemmatizer()\n",
    "df2['Sentence_1_Cleaned'] = list(map(lambda word:list(map(lemm.lemmatize, word)),df2.Sentence_1_Token))\n",
    "df2['Sentence_2_Cleaned'] = list(map(lambda word:list(map(lemm.lemmatize, word)),df2.Sentence_2_Token))\n",
    "\n",
    "df3['Sentence_1_Cleaned'] = list(map(lambda word:list(map(lemm.lemmatize, word)),df3.Sentence_1_Token))\n",
    "df3['Sentence_2_Cleaned'] = list(map(lambda word:list(map(lemm.lemmatize, word)),df3.Sentence_2_Token))"
   ]
  },
  {
   "cell_type": "code",
   "execution_count": 77,
   "id": "9db3f8da",
   "metadata": {},
   "outputs": [],
   "source": [
    "stemmer = PorterStemmer()\n",
    "df['Sentence_1_Cleaned'] = list(map(lambda word:list(map(stemmer.stem, word)),df.Sentence_1_Cleaned))\n",
    "df['Sentence_2_Cleaned'] = list(map(lambda word:list(map(stemmer.stem, word)),df.Sentence_2_Cleaned))\n",
    "\n",
    "df2['Sentence_1_Cleaned'] = list(map(lambda word:list(map(stemmer.stem, word)),df2.Sentence_1_Cleaned))\n",
    "df2['Sentence_2_Cleaned'] = list(map(lambda word:list(map(stemmer.stem, word)),df2.Sentence_2_Cleaned))\n",
    "\n",
    "df3['Sentence_1_Cleaned'] = list(map(lambda word:list(map(stemmer.stem, word)),df3.Sentence_1_Cleaned))\n",
    "df3['Sentence_2_Cleaned'] = list(map(lambda word:list(map(stemmer.stem, word)),df3.Sentence_2_Cleaned))"
   ]
  },
  {
   "cell_type": "code",
   "execution_count": 78,
   "id": "969ce757",
   "metadata": {},
   "outputs": [],
   "source": [
    "df[\"Sentence_1_Length\"] = df[\"sentence_1\"].apply(lambda n: len(n.split()))\n",
    "df[\"Sentence_2_Length\"] = df[\"sentence_2\"].apply(lambda n: len(n.split()))\n",
    "\n",
    "df2[\"Sentence_1_Length\"] = df2[\"sentence_1\"].apply(lambda n: len(n.split()))\n",
    "df2[\"Sentence_2_Length\"] = df2[\"sentence_2\"].apply(lambda n: len(n.split()))\n",
    "\n",
    "df3[\"Sentence_1_Length\"] = df3[\"sentence_1\"].apply(lambda n: len(n.split()))\n",
    "df3[\"Sentence_2_Length\"] = df3[\"sentence_2\"].apply(lambda n: len(n.split()))\n"
   ]
  },
  {
   "cell_type": "code",
   "execution_count": 79,
   "id": "5df7ca25",
   "metadata": {},
   "outputs": [],
   "source": [
    "df['common_wordsCount'] = df[['sentence_1','sentence_2']].apply(lambda x: len(set(x[0].split(\" \")).intersection(set(x[1].split(\" \")))) , axis=1 )\n",
    "df2['common_wordsCount'] = df2[['sentence_1','sentence_2']].apply(lambda x: len(set(x[0].split(\" \")).intersection(set(x[1].split(\" \")))) , axis=1 )\n",
    "df3['common_wordsCount'] = df3[['sentence_1','sentence_2']].apply(lambda x: len(set(x[0].split(\" \")).intersection(set(x[1].split(\" \")))) , axis=1 )\n"
   ]
  },
  {
   "cell_type": "code",
   "execution_count": 80,
   "id": "6055ab72",
   "metadata": {},
   "outputs": [],
   "source": [
    "def jaccard_similarity(x,y):\n",
    "  intersection_cardinality = len(set.intersection(*[set(x), set(y)]))\n",
    "  union_cardinality = len(set.union(*[set(x), set(y)]))\n",
    "  return intersection_cardinality/float(union_cardinality)\n"
   ]
  },
  {
   "cell_type": "code",
   "execution_count": 81,
   "id": "0bc02173",
   "metadata": {},
   "outputs": [],
   "source": [
    "for ind in df.index:\n",
    "    sentence1 = df['sentence_1'][ind]\n",
    "    sentence2 = df['sentence_2'][ind]\n",
    "    df['Jaccard'] = jaccard_similarity(sentence1, sentence2)\n",
    "    \n",
    "for ind in df2.index:\n",
    "    sentence1 = df2['sentence_1'][ind]\n",
    "    sentence2 = df2['sentence_2'][ind]\n",
    "    df2['Jaccard'] = jaccard_similarity(sentence1, sentence2)\n",
    "\n",
    "for ind in df3.index:\n",
    "    sentence1 = df3['sentence_1'][ind]\n",
    "    sentence2 = df3['sentence_2'][ind]\n",
    "    df3['Jaccard'] = jaccard_similarity(sentence1, sentence2)"
   ]
  },
  {
   "cell_type": "code",
   "execution_count": 82,
   "id": "d47daa02",
   "metadata": {},
   "outputs": [],
   "source": [
    "for ind in df.index:\n",
    "    reference = [df['Sentence_1_Cleaned'][ind]]\n",
    "    candidate = df['Sentence_2_Cleaned'][ind]\n",
    "    df['METEOR'] = nltk.translate.meteor_score.meteor_score(reference, candidate)\n",
    "    \n",
    "for ind in df2.index:\n",
    "    reference = [df2['Sentence_1_Cleaned'][ind]]\n",
    "    candidate = df2['Sentence_2_Cleaned'][ind]\n",
    "    df2['METEOR'] = nltk.translate.meteor_score.meteor_score(reference, candidate)\n",
    "    \n",
    "for ind in df3.index:\n",
    "    reference = [df3['Sentence_1_Cleaned'][ind]]\n",
    "    candidate = df3['Sentence_2_Cleaned'][ind]\n",
    "    df3['METEOR'] = nltk.translate.meteor_score.meteor_score(reference, candidate)\n",
    "    "
   ]
  },
  {
   "cell_type": "code",
   "execution_count": 83,
   "id": "ea89e2ae",
   "metadata": {},
   "outputs": [],
   "source": [
    "import math\n",
    "import re\n",
    "from collections import Counter\n",
    "\n",
    "WORD = re.compile(r\"\\w+\")\n",
    "\n",
    "\n",
    "def get_cosine(vec1, vec2):\n",
    "    intersection = set(vec1.keys()) & set(vec2.keys())\n",
    "    numerator = sum([vec1[x] * vec2[x] for x in intersection])\n",
    "\n",
    "    sum1 = sum([vec1[x] ** 2 for x in list(vec1.keys())])\n",
    "    sum2 = sum([vec2[x] ** 2 for x in list(vec2.keys())])\n",
    "    denominator = math.sqrt(sum1) * math.sqrt(sum2)\n",
    "\n",
    "    if not denominator:\n",
    "        return 0.0\n",
    "    else:\n",
    "        return float(numerator) / denominator\n",
    "\n",
    "\n",
    "def text_to_vector(text):\n",
    "    words = WORD.findall(text)\n",
    "    return Counter(words)"
   ]
  },
  {
   "cell_type": "code",
   "execution_count": 84,
   "id": "e00d2b36",
   "metadata": {},
   "outputs": [],
   "source": [
    "for ind in df.index:\n",
    "    vector1 = text_to_vector(df['sentence_1'][ind])\n",
    "    vector2 = text_to_vector(df['sentence_2'][ind])\n",
    "    df['Cosine'] = get_cosine(vector1, vector2)\n",
    "    \n",
    "for ind in df2.index:\n",
    "    vector1 = text_to_vector(df2['sentence_1'][ind])\n",
    "    vector2 = text_to_vector(df2['sentence_2'][ind])\n",
    "    df2['Cosine'] = get_cosine(vector1, vector2)\n",
    "    \n",
    "for ind in df3.index:\n",
    "    vector1 = text_to_vector(df3['sentence_1'][ind])\n",
    "    vector2 = text_to_vector(df3['sentence_2'][ind])\n",
    "    df3['Cosine'] = get_cosine(vector1, vector2)\n",
    "    "
   ]
  },
  {
   "cell_type": "code",
   "execution_count": 85,
   "id": "fbefb28d",
   "metadata": {},
   "outputs": [],
   "source": [
    "X = df.drop(columns = ['instance_id', 'sentence_1', 'sentence_2', 'gold_label', 'Sentence_1_Token', 'Sentence_2_Token', 'Sentence_1_Cleaned', 'Sentence_2_Cleaned']).copy()\n",
    "y = df['gold_label'].values\n",
    "\n",
    "X_dev = df2.drop(columns = ['instance_id', 'sentence_1', 'sentence_2', 'gold_label', 'Sentence_1_Token', 'Sentence_2_Token', 'Sentence_1_Cleaned', 'Sentence_2_Cleaned']).copy()\n",
    "y_dev = df2['gold_label'].values\n",
    "\n",
    "X_final = df3.drop(columns = ['instance_id', 'sentence_1', 'sentence_2', 'Sentence_1_Token', 'Sentence_2_Token', 'Sentence_1_Cleaned', 'Sentence_2_Cleaned']).copy()\n",
    "\n"
   ]
  },
  {
   "cell_type": "code",
   "execution_count": 86,
   "id": "55781039",
   "metadata": {},
   "outputs": [],
   "source": [
    "X_train, X_test, y_train, y_test = train_test_split(X, y, train_size = 0.7, random_state = 0)"
   ]
  },
  {
   "cell_type": "code",
   "execution_count": 87,
   "id": "7483aaf1",
   "metadata": {},
   "outputs": [],
   "source": [
    "from sklearn.preprocessing import StandardScaler  \n",
    "scaler = StandardScaler()  \n",
    "\n",
    "scaler.fit(X_train)  \n",
    "X_train = scaler.transform(X_train)  \n",
    "\n",
    "X_test = scaler.transform(X_test)\n",
    "X_dev = scaler.transform(X_dev)\n",
    "X_final = scaler.transform(X_final)"
   ]
  },
  {
   "cell_type": "code",
   "execution_count": 88,
   "id": "50866cd9",
   "metadata": {},
   "outputs": [
    {
     "name": "stdout",
     "output_type": "stream",
     "text": [
      "accuracy: 0.891, recall: 0.836, precision: 0.752, f1: 0.792,\n"
     ]
    }
   ],
   "source": [
    "mlp_gs = MLPClassifier(max_iter=5000)\n",
    "parameter_space = {\n",
    "    'hidden_layer_sizes': [(10,30,10),(20,)],\n",
    "    'activation': ['tanh', 'relu'],\n",
    "    'solver': ['sgd', 'adam'],\n",
    "    'alpha': [0.0001, 0.05],\n",
    "    'learning_rate': ['constant','adaptive'],\n",
    "}\n",
    "from sklearn.model_selection import GridSearchCV\n",
    "clf = GridSearchCV(mlp_gs, parameter_space, n_jobs=-1, cv=5)\n",
    "clf.fit(X_train, y_train)\n",
    "\n",
    "predictions = clf.predict(X_test)\n",
    "acc = accuracy_score(y_test, predictions)\n",
    "f1 = f1_score(y_test, predictions)\n",
    "recall = recall_score(y_test, predictions)\n",
    "precision = precision_score(y_test, predictions)\n",
    "\n",
    "print(\"accuracy: {:.3f}, recall: {:.3f}, precision: {:.3f}, f1: {:.3f},\".format(acc, recall, precision, f1))"
   ]
  },
  {
   "cell_type": "code",
   "execution_count": 89,
   "id": "a72df9f8",
   "metadata": {},
   "outputs": [
    {
     "name": "stdout",
     "output_type": "stream",
     "text": [
      "0.8687171792948237\n",
      "0.7608200455580865\n"
     ]
    }
   ],
   "source": [
    "y_dev_pred = clf.predict(X_dev)\n",
    "print(accuracy_score(y_dev, y_dev_pred))\n",
    "print(f1_score(y_dev, y_dev_pred))"
   ]
  },
  {
   "cell_type": "code",
   "execution_count": 90,
   "id": "0b2b3fdf",
   "metadata": {},
   "outputs": [],
   "source": [
    "final = clf.predict(X_final)"
   ]
  },
  {
   "cell_type": "code",
   "execution_count": 92,
   "id": "6a875094",
   "metadata": {},
   "outputs": [],
   "source": [
    "file = open('ClareSchwarzenberg_test_result.txt', 'a')\n",
    "\n",
    "for ind in df3.index:\n",
    "    file.write(df3.iloc[:, 0][ind])\n",
    "    file.write(\"\\t\")\n",
    "    file.write(str(final[ind]))\n",
    "    file.write(\"\\n\")\n",
    "file.close()"
   ]
  },
  {
   "cell_type": "code",
   "execution_count": null,
   "id": "59f1e2e5",
   "metadata": {},
   "outputs": [],
   "source": []
  }
 ],
 "metadata": {
  "kernelspec": {
   "display_name": "Python 3 (ipykernel)",
   "language": "python",
   "name": "python3"
  },
  "language_info": {
   "codemirror_mode": {
    "name": "ipython",
    "version": 3
   },
   "file_extension": ".py",
   "mimetype": "text/x-python",
   "name": "python",
   "nbconvert_exporter": "python",
   "pygments_lexer": "ipython3",
   "version": "3.9.7"
  }
 },
 "nbformat": 4,
 "nbformat_minor": 5
}
